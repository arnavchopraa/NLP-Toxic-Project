{
 "cells": [
  {
   "cell_type": "code",
   "id": "initial_id",
   "metadata": {
    "collapsed": true
   },
   "source": [
    "import spacy\n",
    "import json\n",
    "from collections import Counter\n",
    "!python -m spacy download en_core_web_sm"
   ],
   "outputs": [],
   "execution_count": null
  },
  {
   "metadata": {},
   "cell_type": "code",
   "source": [
    "# Load spaCy's English model\n",
    "nlp = spacy.load(\"en_core_web_sm\")\n",
    "\n",
    "model = \"llama\"     # \"mistral\" / \"bloom\" / \"llama\"\n",
    "\n",
    "toxic_prompts = [json.loads(x)[\"prompt\"] for x in open(f\"results/{model}/most_toxic.jsonl\").readlines()]\n",
    "\n",
    "nontoxic_prompts = [json.loads(x)[\"prompt\"] for x in open(f\"results/{model}/least_toxic.jsonl\").readlines()]\n",
    "\n",
    "parsed_toxic = [nlp(sentence) for sentence in toxic_prompts]\n",
    "parsed_nontoxic = [nlp(sentence) for sentence in nontoxic_prompts]\n",
    "\n",
    "# Function to extract POS bigrams\n",
    "def pos_ngrams(parsed_sentences, n):\n",
    "    ngrams = []\n",
    "    for parsed_sentence in parsed_sentences:\n",
    "        pos_tags = [token.pos_ for token in parsed_sentence]\n",
    "        ngrams.extend(zip(*[pos_tags[i:] for i in range(n)]))\n",
    "    return Counter(ngrams)\n",
    "\n",
    "# Get bigrams and of POS tags\n",
    "bigrams = pos_ngrams(parsed_toxic, 2)\n",
    "# bigrams = pos_ngrams(parsed_nontoxic, 2)\n",
    "\n",
    "print(\"Most common POS bigrams:\", bigrams.most_common(10))"
   ],
   "id": "5d6b51069b86af45",
   "outputs": [],
   "execution_count": null
  }
 ],
 "metadata": {
  "kernelspec": {
   "display_name": "Python 3",
   "language": "python",
   "name": "python3"
  },
  "language_info": {
   "codemirror_mode": {
    "name": "ipython",
    "version": 2
   },
   "file_extension": ".py",
   "mimetype": "text/x-python",
   "name": "python",
   "nbconvert_exporter": "python",
   "pygments_lexer": "ipython2",
   "version": "2.7.6"
  }
 },
 "nbformat": 4,
 "nbformat_minor": 5
}
